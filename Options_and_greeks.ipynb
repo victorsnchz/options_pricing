{
 "cells": [
  {
   "cell_type": "code",
   "execution_count": 1,
   "metadata": {},
   "outputs": [],
   "source": [
    "import numpy as np\n",
    "import numpy.random as npr\n",
    "import math\n",
    "from scipy import stats\n",
    "import datetime as dt\n",
    "import random\n",
    "import matplotlib.pyplot as plt"
   ]
  },
  {
   "cell_type": "code",
   "execution_count": 2,
   "metadata": {},
   "outputs": [],
   "source": [
    "#taken from Optiver TraderCraft workshop and competition\n",
    "\n",
    "_norm_cdf = stats.norm(0, 1).cdf\n",
    "_norm_pdf = stats.norm(0, 1).pdf\n",
    "\n",
    "\n",
    "def _d1(S, K, T, r, sigma, div = 0):\n",
    "    return (np.log(S / K) + (r - div + 0.5 * sigma ** 2) * T) / (sigma * np.sqrt(T))\n",
    "\n",
    "\n",
    "def _d2(S, K, T, r, sigma, div = 0):\n",
    "    return _d1(S, K, T, r, sigma) - sigma * np.sqrt(T)\n",
    "\n",
    "\n",
    "def calculate_time_to_date(expiry_datetime: dt.datetime, current_datetime: dt.datetime):\n",
    "    \"\"\"\n",
    "    Calculate the time until expiration of the option. All options expire at 12:00:00 UTC on the date of expiry.\n",
    "    \n",
    "    Example: calculate_time_to_date(dt.datetime.strptime('2021-03-01 12:00:00', '%Y-%m-%d %H:%M:%S'), dt.datetime.now())\n",
    "    \"\"\"\n",
    "    return (expiry_datetime - current_datetime) / dt.timedelta(days=1) / 365\n",
    "\n",
    "\n",
    "def call_value(S, K, T, r, sigma, div=0):\n",
    "    return S * np.exp(-div * T) *_norm_cdf(_d1(S, K, T, r, sigma)) - K * np.exp(-r * T) * _norm_cdf(\n",
    "        _d2(S, K, T, r, sigma)\n",
    "    )\n",
    "\n",
    "\n",
    "def put_value(S, K, T, r, sigma, div=0):\n",
    "    return np.exp(-r * T) * K * _norm_cdf(-_d2(S, K, T, r, sigma)) - S * np.exp(-div * T) * _norm_cdf(\n",
    "        -_d1(S, K, T, r, sigma)\n",
    "    )"
   ]
  },
  {
   "cell_type": "code",
   "execution_count": 3,
   "metadata": {},
   "outputs": [],
   "source": [
    "def call_delta(S, K, T, r, sigma, div=0):\n",
    "    return  np.exp(-div * T) * _norm_cdf(_d1(S, K, T, r, sigma))\n",
    "\n",
    "def put_delta(S, K, T, r, sigma, div=0):\n",
    "    return np.exp(-div * T) *_norm_cdf(_d1(S, K, T, r, sigma)) -np.exp(-div * T)\n",
    "\n",
    "def call_vega(S, K, T, r, sigma, div=0):\n",
    "    return S * _norm_pdf(_d1(S, K, T, r, sigma)) * np.sqrt(T) * np.exp(-div * T)\n",
    "\n",
    "def put_vega(S, K, T, r, sigma, div=0):\n",
    "    return call_vega(S, K, T, r, sigma)\n",
    "\n",
    "def call_gamma(S, K, T, r, sigma, div=0):\n",
    "    return _norm_pdf(_d1(S, K, T, r, sigma)) * np.exp(-div * T) / (S * sigma *np.sqrt(T))\n",
    "\n",
    "def put_gamma(S, K, T, r, sigma, div=0):\n",
    "    return call_gamma(S, K, T, r, sigma, div=0)\n",
    "\n",
    "\n",
    "def call_theta(S, K, T, r, sigma, div=0):\n",
    "    return -(S * _norm_pdf(_d1(S, K, T, r, sigma)) * sigma)/(2*np.sqrt(T))  - r * K * np.exp(-r * T) * _norm_cdf(_d1(S, K, T, r, sigma))\n",
    "\n",
    "def put_theta(S, K, T, r, sigma, div=0):\n",
    "    return call_theta(S, K, T, r, sigma, div=0) + r * K * np.exp(-r * T)"
   ]
  },
  {
   "cell_type": "code",
   "execution_count": 4,
   "metadata": {},
   "outputs": [],
   "source": [
    "def approx(V_0, S_0, epsilon, delta, gamma = 0, h = 0, theta = 0, vega = 0, delta_vol = 0):\n",
    "    return V_0 + epsilon*delta*S_0 + gamma*0.5*(epsilon*S_0)**2 + h*theta + vega*delta_vol"
   ]
  },
  {
   "cell_type": "code",
   "execution_count": 34,
   "metadata": {},
   "outputs": [],
   "source": [
    "S = 42627\n",
    "K_1 = 38000\n",
    "K_2 = 30\n",
    "K_3 = 36\n",
    "T_1 = 2/365\n",
    "T_2 = 1/2\n",
    "r = 0\n",
    "div = 0\n",
    "sigma=1.14"
   ]
  },
  {
   "cell_type": "code",
   "execution_count": 35,
   "metadata": {},
   "outputs": [
    {
     "data": {
      "text/plain": [
       "135.36252718025207"
      ]
     },
     "execution_count": 35,
     "metadata": {},
     "output_type": "execute_result"
    }
   ],
   "source": [
    "put_value(S, K_1, T_1, r, sigma, div)"
   ]
  },
  {
   "cell_type": "code",
   "execution_count": 8,
   "metadata": {},
   "outputs": [
    {
     "data": {
      "text/plain": [
       "3.6505481739031542"
      ]
     },
     "execution_count": 8,
     "metadata": {},
     "output_type": "execute_result"
    }
   ],
   "source": [
    "call_vega(S, K_2, T_1, r, sigma, div)"
   ]
  },
  {
   "cell_type": "code",
   "execution_count": 9,
   "metadata": {},
   "outputs": [
    {
     "data": {
      "text/plain": [
       "0.005569041930214075"
      ]
     },
     "execution_count": 9,
     "metadata": {},
     "output_type": "execute_result"
    }
   ],
   "source": [
    "call_vega(S, K_3, T_1, r, sigma, div)"
   ]
  },
  {
   "cell_type": "code",
   "execution_count": 13,
   "metadata": {},
   "outputs": [
    {
     "data": {
      "text/plain": [
       "14.08261307057198"
      ]
     },
     "execution_count": 13,
     "metadata": {},
     "output_type": "execute_result"
    }
   ],
   "source": [
    "put_vega(S, K_2, T2, r, sigma, div)"
   ]
  },
  {
   "cell_type": "code",
   "execution_count": 29,
   "metadata": {},
   "outputs": [
    {
     "data": {
      "text/plain": [
       "-0.015952705216655275"
      ]
     },
     "execution_count": 29,
     "metadata": {},
     "output_type": "execute_result"
    }
   ],
   "source": [
    "-1*call_gamma(S, K, T, r, sigma/10, div) -1*put_gamma(S, K, T, r, sigma/10, div)"
   ]
  },
  {
   "cell_type": "code",
   "execution_count": 15,
   "metadata": {},
   "outputs": [
    {
     "data": {
      "text/plain": [
       "-0.07681353809731561"
      ]
     },
     "execution_count": 15,
     "metadata": {},
     "output_type": "execute_result"
    }
   ],
   "source": [
    "-1*call_delta(S, K_1, T, r, sigma, div) -1*put_delta(S, K_2, T, r, sigma, div) -1*call_delta(S, K, T, r, sigma, div) -1*put_delta(S, K, T, r, sigma, div)"
   ]
  },
  {
   "cell_type": "code",
   "execution_count": 25,
   "metadata": {},
   "outputs": [
    {
     "data": {
      "text/plain": [
       "-0.006611586197486618"
      ]
     },
     "execution_count": 25,
     "metadata": {},
     "output_type": "execute_result"
    }
   ],
   "source": [
    "call_gamma(S, K_1, T, r, sigma, div) - call_gamma(S, K_2, T, r, sigma, div)"
   ]
  },
  {
   "cell_type": "code",
   "execution_count": 17,
   "metadata": {},
   "outputs": [
    {
     "data": {
      "text/plain": [
       "0.008877825294447169"
      ]
     },
     "execution_count": 17,
     "metadata": {},
     "output_type": "execute_result"
    }
   ],
   "source": [
    "call_gamma(1350, 1350, 1/52, r, sigma, div)"
   ]
  },
  {
   "cell_type": "code",
   "execution_count": 10,
   "metadata": {},
   "outputs": [
    {
     "data": {
      "text/plain": [
       "0.13108507887658355"
      ]
     },
     "execution_count": 10,
     "metadata": {},
     "output_type": "execute_result"
    }
   ],
   "source": [
    "call_vega(S, K_2, T, r, sigma, div) + put_vega(S, K_1, T, r, sigma, div)"
   ]
  },
  {
   "cell_type": "code",
   "execution_count": 116,
   "metadata": {},
   "outputs": [
    {
     "data": {
      "text/plain": [
       "-0.29939962723721464"
      ]
     },
     "execution_count": 116,
     "metadata": {},
     "output_type": "execute_result"
    }
   ],
   "source": [
    "-10*call_gamma(S, K, T, r, sigma, div) -10* put_gamma(S, K, T, r, sigma, div)"
   ]
  },
  {
   "cell_type": "code",
   "execution_count": 117,
   "metadata": {},
   "outputs": [
    {
     "data": {
      "text/plain": [
       "55.1853392923634"
      ]
     },
     "execution_count": 117,
     "metadata": {},
     "output_type": "execute_result"
    }
   ],
   "source": [
    "-10*call_theta(S, K, T, r, sigma, div) -10* put_theta(S, K, T, r, sigma, div)"
   ]
  },
  {
   "cell_type": "code",
   "execution_count": 120,
   "metadata": {},
   "outputs": [
    {
     "data": {
      "text/plain": [
       "-792.1604235873122"
      ]
     },
     "execution_count": 120,
     "metadata": {},
     "output_type": "execute_result"
    }
   ],
   "source": [
    "-10*call_vega(S, K, T, r, sigma, div) -10* put_vega(S, K, T, r, sigma, div)"
   ]
  },
  {
   "cell_type": "code",
   "execution_count": 72,
   "metadata": {},
   "outputs": [
    {
     "data": {
      "text/plain": [
       "192.72070047123287"
      ]
     },
     "execution_count": 72,
     "metadata": {},
     "output_type": "execute_result"
    }
   ],
   "source": [
    "V_0 = 189.86\n",
    "epsilon = -5/100\n",
    "delta = 3.1\n",
    "gamma = 32.97\n",
    "theta = -375.407\n",
    "h = 1/365\n",
    "vega = 791.3156\n",
    "delta_vol = -1.2/100\n",
    "approx(V_0, S, epsilon, delta, gamma, h, theta, vega, delta_vol)"
   ]
  },
  {
   "cell_type": "code",
   "execution_count": 58,
   "metadata": {},
   "outputs": [
    {
     "data": {
      "text/plain": [
       "202.21648767123287"
      ]
     },
     "execution_count": 58,
     "metadata": {},
     "output_type": "execute_result"
    }
   ],
   "source": [
    "189.86-5/100 * 20 *3.1 + 32.97*0.5*(5/100*20)**2+ (1/365)*(-375.407)"
   ]
  },
  {
   "cell_type": "code",
   "execution_count": 26,
   "metadata": {},
   "outputs": [
    {
     "data": {
      "text/plain": [
       "186.76000000000002"
      ]
     },
     "execution_count": 26,
     "metadata": {},
     "output_type": "execute_result"
    }
   ],
   "source": [
    "189.86-5/100 * 20 *3.1"
   ]
  },
  {
   "cell_type": "code",
   "execution_count": 20,
   "metadata": {},
   "outputs": [
    {
     "data": {
      "text/plain": [
       "8.03736701439017"
      ]
     },
     "execution_count": 20,
     "metadata": {},
     "output_type": "execute_result"
    }
   ],
   "source": [
    "100*call_delta(S, K, T, r, sigma, div) + 100*put_delta(S, K, T, r, sigma, div) "
   ]
  },
  {
   "cell_type": "code",
   "execution_count": 181,
   "metadata": {},
   "outputs": [
    {
     "data": {
      "text/plain": [
       "-0.4979118502019869"
      ]
     },
     "execution_count": 181,
     "metadata": {},
     "output_type": "execute_result"
    }
   ],
   "source": [
    "put_delta(S, K, T, r, sigma)"
   ]
  },
  {
   "cell_type": "code",
   "execution_count": 18,
   "metadata": {},
   "outputs": [
    {
     "data": {
      "text/plain": [
       "33.07382025010852"
      ]
     },
     "execution_count": 18,
     "metadata": {},
     "output_type": "execute_result"
    }
   ],
   "source": [
    "100*call_gamma(S, K, T, r, sigma) + 100*put_gamma(S, K, T, r, sigma) "
   ]
  },
  {
   "cell_type": "code",
   "execution_count": 183,
   "metadata": {},
   "outputs": [
    {
     "data": {
      "text/plain": [
       "41.76261456443165"
      ]
     },
     "execution_count": 183,
     "metadata": {},
     "output_type": "execute_result"
    }
   ],
   "source": [
    "call_vega(S, K, T, r, sigma)"
   ]
  },
  {
   "cell_type": "code",
   "execution_count": 184,
   "metadata": {},
   "outputs": [
    {
     "data": {
      "text/plain": [
       "41.76261456443165"
      ]
     },
     "execution_count": 184,
     "metadata": {},
     "output_type": "execute_result"
    }
   ],
   "source": [
    "put_vega(S, K, T, r, sigma)"
   ]
  },
  {
   "cell_type": "code",
   "execution_count": 244,
   "metadata": {},
   "outputs": [
    {
     "data": {
      "text/plain": [
       "724.0692239028373"
      ]
     },
     "execution_count": 244,
     "metadata": {},
     "output_type": "execute_result"
    }
   ],
   "source": [
    "100*call_theta(S, 2100, T, r, sigma) -10*put_theta(S, 1900, T, r, sigma) "
   ]
  },
  {
   "cell_type": "code",
   "execution_count": 245,
   "metadata": {},
   "outputs": [
    {
     "data": {
      "text/plain": [
       "-396.7502596727875"
      ]
     },
     "execution_count": 245,
     "metadata": {},
     "output_type": "execute_result"
    }
   ],
   "source": [
    "-10*call_vega(S, 2100, T, r, sigma, div=0) - 10*put_vega(S, 1900, T, r, sigma, div=0)"
   ]
  },
  {
   "cell_type": "code",
   "execution_count": null,
   "metadata": {},
   "outputs": [],
   "source": []
  }
 ],
 "metadata": {
  "kernelspec": {
   "display_name": "Python 3 (ipykernel)",
   "language": "python",
   "name": "python3"
  },
  "language_info": {
   "codemirror_mode": {
    "name": "ipython",
    "version": 3
   },
   "file_extension": ".py",
   "mimetype": "text/x-python",
   "name": "python",
   "nbconvert_exporter": "python",
   "pygments_lexer": "ipython3",
   "version": "3.9.7"
  }
 },
 "nbformat": 4,
 "nbformat_minor": 4
}
