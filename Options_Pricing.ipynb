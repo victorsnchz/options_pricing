{
 "cells": [
  {
   "cell_type": "code",
   "execution_count": 1,
   "metadata": {},
   "outputs": [],
   "source": [
    "import numpy as np\n",
    "import numpy.random as npr\n",
    "import math\n",
    "from scipy import stats\n",
    "import datetime as dt\n",
    "import random\n",
    "import matplotlib.pyplot as plt"
   ]
  },
  {
   "cell_type": "code",
   "execution_count": 2,
   "metadata": {},
   "outputs": [],
   "source": [
    "np.random.seed(100)"
   ]
  },
  {
   "cell_type": "code",
   "execution_count": 3,
   "metadata": {},
   "outputs": [],
   "source": [
    "r = 0.05\n",
    "S_0 = 1.22\n",
    "T = 1\n",
    "K = 1.22\n",
    "typeCP = 'call'"
   ]
  },
  {
   "cell_type": "code",
   "execution_count": 4,
   "metadata": {},
   "outputs": [],
   "source": [
    "N = 100000\n",
    "mu, sigma = 0, 0.1 # mean and standard deviations"
   ]
  },
  {
   "cell_type": "code",
   "execution_count": 5,
   "metadata": {},
   "outputs": [],
   "source": [
    "def EU_montecarlo(T,N,S_0,r,sigma,K, typeCP):\n",
    "    typeCP = 1 if typeCP == \"call\" else -1    \n",
    "    S = []\n",
    "    P = []\n",
    "    for n in range(N):\n",
    "        Z = np.random.normal(mu, sigma, 1)\n",
    "        S.append(S_0*np.exp((r - 0.5*sigma**2)*T + sigma*np.sqrt(T)*Z))\n",
    "        h = np.maximum(typeCP*(S[-1] - K), 0)\n",
    "        P.append(math.exp(-r*T)*h)\n",
    "    P_hat = np.mean(P)\n",
    "    return P_hat"
   ]
  },
  {
   "cell_type": "code",
   "execution_count": 6,
   "metadata": {},
   "outputs": [],
   "source": [
    "#taken from Optiver TraderCraft workshop and competition\n",
    "\n",
    "_norm_cdf = stats.norm(0, 1).cdf\n",
    "_norm_pdf = stats.norm(0, 1).pdf\n",
    "\n",
    "\n",
    "def _d1(S, K, T, r, sigma):\n",
    "    return (np.log(S / K) + (r + 0.5 * sigma ** 2) * T) / (sigma * np.sqrt(T))\n",
    "\n",
    "\n",
    "def _d2(S, K, T, r, sigma):\n",
    "    return _d1(S, K, T, r, sigma) - sigma * np.sqrt(T)\n",
    "\n",
    "\n",
    "def calculate_time_to_date(expiry_datetime: dt.datetime, current_datetime: dt.datetime):\n",
    "    \"\"\"\n",
    "    Calculate the time until expiration of the option. All options expire at 12:00:00 UTC on the date of expiry.\n",
    "    \n",
    "    Example: calculate_time_to_date(dt.datetime.strptime('2021-03-01 12:00:00', '%Y-%m-%d %H:%M:%S'), dt.datetime.now())\n",
    "    \"\"\"\n",
    "    return (expiry_datetime - current_datetime) / dt.timedelta(days=1) / 365\n",
    "\n",
    "\n",
    "def call_value(S, K, T, r, sigma):\n",
    "    \"\"\"\n",
    "    The fair value of a call option paying max(S-K, 0) at expiry, under the Black-scholes model,\n",
    "    for an option with strike <K>, expiring in <T> years, under a fixed interest rate <r>,\n",
    "    a stock volatility <sigma>, and when the current price of the underlying stock is <S>.\n",
    "\n",
    "    Parameters\n",
    "    ----------\n",
    "    S : float\n",
    "        The current value of the underlying stock.\n",
    "\n",
    "    K : float\n",
    "        The strike price of the option.\n",
    "\n",
    "    T : float\n",
    "        Time to expiry in years.\n",
    "\n",
    "    r : float\n",
    "        The fixed interest rate valid between now and expiry.\n",
    "\n",
    "    sigma : float\n",
    "        The volatility of the underlying stock process.\n",
    "\n",
    "    Returns\n",
    "    -------\n",
    "    call_value : float\n",
    "        The fair present value of the option.\n",
    "    \"\"\"\n",
    "\n",
    "    return S * _norm_cdf(_d1(S, K, T, r, sigma)) - K * np.exp(-r * T) * _norm_cdf(\n",
    "        _d2(S, K, T, r, sigma)\n",
    "    )\n",
    "\n",
    "\n",
    "def put_value(S, K, T, r, sigma):\n",
    "    \"\"\"\n",
    "    The fair value of a put option paying max(K-S, 0) at expiry, under the Black-scholes model,\n",
    "    for an option with strike <K>, expiring in <T> years, under a fixed interest rate <r>,\n",
    "    a stock volatility <sigma>, and when the current price of the underlying stock is <S>.\n",
    "\n",
    "    Parameters\n",
    "    ----------\n",
    "    S : float\n",
    "        The value of the underlying stock.\n",
    "\n",
    "    K : float\n",
    "        The strike price of the option.\n",
    "\n",
    "    T : float\n",
    "        Time to expiry in years.\n",
    "\n",
    "    r : float\n",
    "        The fixed interest rate valid between now and expiry.\n",
    "\n",
    "    sigma : float\n",
    "        The volatility of the underlying stock process.\n",
    "\n",
    "    Returns\n",
    "    -------\n",
    "    put_value : float\n",
    "        The fair present value of the option.\n",
    "    \"\"\"\n",
    "\n",
    "    return np.exp(-r * T) * K * _norm_cdf(-_d2(S, K, T, r, sigma)) - S * _norm_cdf(\n",
    "        -_d1(S, K, T, r, sigma)\n",
    "    )"
   ]
  },
  {
   "cell_type": "code",
   "execution_count": 7,
   "metadata": {},
   "outputs": [],
   "source": [
    "call_bs = call_value(S_0, K, T, r, sigma)"
   ]
  },
  {
   "cell_type": "code",
   "execution_count": 8,
   "metadata": {},
   "outputs": [],
   "source": [
    "put_bs = put_value(S_0, K, T, r, sigma)"
   ]
  },
  {
   "cell_type": "code",
   "execution_count": 9,
   "metadata": {},
   "outputs": [],
   "source": [
    "call_mc = EU_montecarlo(T,N,S_0,r,sigma,K, 'call')"
   ]
  },
  {
   "cell_type": "code",
   "execution_count": 10,
   "metadata": {},
   "outputs": [],
   "source": [
    "put_mc = EU_montecarlo(T,N,S_0,r,sigma,K, 'put')"
   ]
  },
  {
   "cell_type": "code",
   "execution_count": 11,
   "metadata": {},
   "outputs": [
    {
     "name": "stdout",
     "output_type": "stream",
     "text": [
      "0.08302048404763018 0.05350914424637699\n",
      "0.02352038193850131 0.0\n",
      "35.547058222790014 %\n",
      "100.0 %\n"
     ]
    }
   ],
   "source": [
    "print(call_bs, call_mc)\n",
    "print(put_bs,put_mc)\n",
    "e_call = (call_bs-call_mc)/call_bs\n",
    "print(e_call*100,'%')\n",
    "e_put = (put_bs-put_mc)/put_bs\n",
    "print(e_put*100,'%')"
   ]
  },
  {
   "cell_type": "code",
   "execution_count": 18,
   "metadata": {},
   "outputs": [],
   "source": [
    "#Asian call\n",
    "s = [S_0]\n",
    "c = []\n",
    "n = 1000\n",
    "m = 5\n",
    "\n",
    "for i in range(n):\n",
    "    for j in range(m):\n",
    "        z = np.random.normal(mu, sigma, 1)\n",
    "        s.append(s[-1]*math.exp((r-0.5*sigma**2)*(T/m) + sigma*math.sqrt(T/m)*z))\n",
    "    s_bar = np.mean(s)\n",
    "    s = [S_0]\n",
    "    c.append(math.exp(-r*T)*max(0, s_bar-K))\n",
    "c_hat = np.mean(c)"
   ]
  },
  {
   "cell_type": "code",
   "execution_count": 13,
   "metadata": {},
   "outputs": [],
   "source": [
    "def lsm_option(T, N, steps, S, r, sigma, K, option_type):\n",
    "\n",
    "    if option_type == \"call\":\n",
    "        option_type = 1\n",
    "    else:\n",
    "        option_type = -1\n",
    "        \n",
    "    dt = np.float(T) / steps\n",
    "    df = np.exp(-r * dt)\n",
    "    \n",
    "    # simulation of index levels\n",
    "    sample_path = np.zeros((steps + 1, N))\n",
    "    sample_path[0] = S\n",
    "    z = npr.randn(steps, N)\n",
    "    for t in range(1, steps + 1):\n",
    "        sample_path[t] = sample_path[t-1]*np.exp((r - 0.5*sigma**2)*dt + sigma*np.sqrt(dt)*z[t-1])\n",
    "\n",
    "    # payoff computation\n",
    "    h = np.maximum(option_type*(sample_path - K), 0)\n",
    "    # LSM algorithm - backward recursion from final node\n",
    "    V = np.copy(h)\n",
    "    for t in range(steps-1, 0, -1):\n",
    "        reg = np.polyfit(sample_path[t], V[t+1]*df, 10) #compute beta_i using second order polynomial fit\n",
    "        C = np.polyval(reg, sample_path[t]) #compute \n",
    "        V[t] = np.where(C > h[t], V[t+1]*df, h[t])\n",
    "    # MCS estimator\n",
    "    option = df * 1 / N * np.sum(V[1])\n",
    "    return option"
   ]
  },
  {
   "cell_type": "code",
   "execution_count": 14,
   "metadata": {},
   "outputs": [],
   "source": [
    "T = 1\n",
    "N = 100000\n",
    "steps = 12\n",
    "S = 1.22\n",
    "r = 0\n",
    "sigma = 0.1\n",
    "K = 1.22\n",
    "option_type = 'put'"
   ]
  },
  {
   "cell_type": "code",
   "execution_count": 15,
   "metadata": {},
   "outputs": [
    {
     "name": "stderr",
     "output_type": "stream",
     "text": [
      "<ipython-input-15-5edda9cf4515>:1: RankWarning: Polyfit may be poorly conditioned\n",
      "  lsm_option(T, N, steps, S, r, sigma, K, option_type)\n",
      "<ipython-input-15-5edda9cf4515>:1: RankWarning: Polyfit may be poorly conditioned\n",
      "  lsm_option(T, N, steps, S, r, sigma, K, option_type)\n",
      "<ipython-input-15-5edda9cf4515>:1: RankWarning: Polyfit may be poorly conditioned\n",
      "  lsm_option(T, N, steps, S, r, sigma, K, option_type)\n",
      "<ipython-input-15-5edda9cf4515>:1: RankWarning: Polyfit may be poorly conditioned\n",
      "  lsm_option(T, N, steps, S, r, sigma, K, option_type)\n",
      "<ipython-input-15-5edda9cf4515>:1: RankWarning: Polyfit may be poorly conditioned\n",
      "  lsm_option(T, N, steps, S, r, sigma, K, option_type)\n",
      "<ipython-input-15-5edda9cf4515>:1: RankWarning: Polyfit may be poorly conditioned\n",
      "  lsm_option(T, N, steps, S, r, sigma, K, option_type)\n",
      "<ipython-input-15-5edda9cf4515>:1: RankWarning: Polyfit may be poorly conditioned\n",
      "  lsm_option(T, N, steps, S, r, sigma, K, option_type)\n",
      "<ipython-input-15-5edda9cf4515>:1: RankWarning: Polyfit may be poorly conditioned\n",
      "  lsm_option(T, N, steps, S, r, sigma, K, option_type)\n",
      "<ipython-input-15-5edda9cf4515>:1: RankWarning: Polyfit may be poorly conditioned\n",
      "  lsm_option(T, N, steps, S, r, sigma, K, option_type)\n",
      "<ipython-input-15-5edda9cf4515>:1: RankWarning: Polyfit may be poorly conditioned\n",
      "  lsm_option(T, N, steps, S, r, sigma, K, option_type)\n",
      "<ipython-input-15-5edda9cf4515>:1: RankWarning: Polyfit may be poorly conditioned\n",
      "  lsm_option(T, N, steps, S, r, sigma, K, option_type)\n"
     ]
    },
    {
     "data": {
      "text/plain": [
       "0.04883275289324841"
      ]
     },
     "execution_count": 15,
     "metadata": {},
     "output_type": "execute_result"
    }
   ],
   "source": [
    "lsm_option(T, N, steps, S, r, sigma, K, option_type)"
   ]
  },
  {
   "cell_type": "code",
   "execution_count": 16,
   "metadata": {},
   "outputs": [
    {
     "name": "stdout",
     "output_type": "stream",
     "text": [
      "0.08302048404763018 0.05350914424637699\n",
      "0.02352038193850131 0.0\n",
      "35.547058222790014 %\n",
      "100.0 %\n"
     ]
    }
   ],
   "source": [
    "print(call_bs, call_mc)\n",
    "print(put_bs,put_mc)\n",
    "e_call = (call_bs-call_mc)/call_bs\n",
    "print(e_call*100,'%')\n",
    "e_put = (put_bs-put_mc)/put_bs\n",
    "print(e_put*100,'%')"
   ]
  },
  {
   "cell_type": "code",
   "execution_count": null,
   "metadata": {},
   "outputs": [],
   "source": []
  }
 ],
 "metadata": {
  "kernelspec": {
   "display_name": "Python 3",
   "language": "python",
   "name": "python3"
  },
  "language_info": {
   "codemirror_mode": {
    "name": "ipython",
    "version": 3
   },
   "file_extension": ".py",
   "mimetype": "text/x-python",
   "name": "python",
   "nbconvert_exporter": "python",
   "pygments_lexer": "ipython3",
   "version": "3.8.3"
  }
 },
 "nbformat": 4,
 "nbformat_minor": 4
}
