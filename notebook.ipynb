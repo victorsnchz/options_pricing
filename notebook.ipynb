{
 "cells": [
  {
   "cell_type": "code",
   "execution_count": 1,
   "metadata": {},
   "outputs": [],
   "source": [
    "from src.option import Option\n",
    "from src.payoff import PayoffFactory, PayoffType\n",
    "from src.exercise import ExerciseFactory, ExerciseType\n",
    "from src.direction import Direction\n",
    "from datetime import datetime, date\n",
    "\n",
    "from src.pricers.black_scholes import BlackScholesPricer\n",
    "from src.pricers.types import Market\n",
    "from src.pricers.factory import PricerFactory, PricerType\n",
    "#from src.pricers import bs"
   ]
  },
  {
   "cell_type": "code",
   "execution_count": 2,
   "metadata": {},
   "outputs": [],
   "source": [
    "exercise = ExerciseFactory.create(\n",
    "    ExerciseType.EUROPEAN,\n",
    "    expiry=date(2025, 12, 31),\n",
    ")\n",
    "\n",
    "payoff = PayoffFactory.create(\n",
    "    PayoffType.VANILLA,\n",
    "    direction=Direction.CALL,\n",
    ")\n",
    "\n",
    "option = Option(\n",
    "    strike=100.0,\n",
    "    exercise=exercise,\n",
    "    payoff=payoff,\n",
    ")"
   ]
  },
  {
   "cell_type": "code",
   "execution_count": 3,
   "metadata": {},
   "outputs": [
    {
     "data": {
      "text/plain": [
       "(np.float64(3.0626001437287442),\n",
       " Greeks(delta=np.float64(0.5371175752016983), gamma=np.float64(0.0554205328109922), vega=np.float64(0.11387780714587438), theta=np.float64(-0.05438732704727977), rho=np.float64(0.041629444418992675)))"
      ]
     },
     "execution_count": 3,
     "metadata": {},
     "output_type": "execute_result"
    }
   ],
   "source": [
    "pricer: BlackScholesPricer = PricerFactory().create(PricerType.BLACK_SCHOLES)\n",
    "market = Market(100, .05, date(2025, 12, 1), .0, .25)\n",
    "pricer.price_and_greeks(option, market)"
   ]
  },
  {
   "cell_type": "code",
   "execution_count": 4,
   "metadata": {},
   "outputs": [],
   "source": [
    "exercise = ExerciseFactory.create(\n",
    "    ExerciseType.EUROPEAN,\n",
    "    expiry=date(2025, 12, 31),\n",
    ")\n",
    "\n",
    "payoff = PayoffFactory.create(\n",
    "    PayoffType.VANILLA,\n",
    "    direction=Direction.PUT,\n",
    ")\n",
    "\n",
    "option = Option(\n",
    "    strike=100.0,\n",
    "    exercise=exercise,\n",
    "    payoff=payoff,\n",
    ")"
   ]
  },
  {
   "cell_type": "code",
   "execution_count": 5,
   "metadata": {},
   "outputs": [
    {
     "data": {
      "text/plain": [
       "(np.float64(2.652484520149173),\n",
       " Greeks(delta=np.float64(-0.46288242479830166), gamma=np.float64(0.0554205328109922), vega=np.float64(0.11387780714587438), theta=np.float64(-0.04051084557428221), rho=np.float64(-0.041629444418992675)))"
      ]
     },
     "execution_count": 5,
     "metadata": {},
     "output_type": "execute_result"
    }
   ],
   "source": [
    "pricer: BlackScholesPricer = PricerFactory().create(PricerType.BLACK_SCHOLES)\n",
    "market = Market(100, .05, date(2025, 12, 1), .0, .25)\n",
    "pricer.price_and_greeks(option, market)"
   ]
  },
  {
   "cell_type": "code",
   "execution_count": null,
   "metadata": {},
   "outputs": [],
   "source": [
    "pricer.implied_vol(option, market, target_price=3)"
   ]
  }
 ],
 "metadata": {
  "kernelspec": {
   "display_name": "venv",
   "language": "python",
   "name": "python3"
  },
  "language_info": {
   "codemirror_mode": {
    "name": "ipython",
    "version": 3
   },
   "file_extension": ".py",
   "mimetype": "text/x-python",
   "name": "python",
   "nbconvert_exporter": "python",
   "pygments_lexer": "ipython3",
   "version": "3.12.5"
  }
 },
 "nbformat": 4,
 "nbformat_minor": 2
}
