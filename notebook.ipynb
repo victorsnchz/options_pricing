{
 "cells": [
  {
   "cell_type": "code",
   "execution_count": 4,
   "metadata": {},
   "outputs": [],
   "source": [
    "from src.option import Option\n",
    "from src.payoff import PayoffFactory, PayoffType\n",
    "from src.exercise import ExerciseFactory, ExerciseType\n",
    "from src.direction import Direction\n",
    "from datetime import datetime, date\n",
    "\n",
    "from src.pricers.black_scholes import BlackScholesPricer\n",
    "from src.pricers.types import Market\n",
    "from src.pricers.factory import PricerFactory, PricerType\n",
    "#from src.pricers import bs"
   ]
  },
  {
   "cell_type": "code",
   "execution_count": 2,
   "metadata": {},
   "outputs": [],
   "source": [
    "exercise = ExerciseFactory.create(\n",
    "    ExerciseType.EUROPEAN,\n",
    "    expiry=date(2025, 12, 31),\n",
    ")\n",
    "\n",
    "payoff = PayoffFactory.create(\n",
    "    PayoffType.VANILLA,\n",
    "    direction=Direction.CALL,\n",
    ")\n",
    "\n",
    "option = Option(\n",
    "    strike=100.0,\n",
    "    exercise=exercise,\n",
    "    payoff=payoff,\n",
    ")"
   ]
  },
  {
   "cell_type": "code",
   "execution_count": 6,
   "metadata": {},
   "outputs": [
    {
     "data": {
      "text/plain": [
       "np.float64(31.879699865324387)"
      ]
     },
     "execution_count": 6,
     "metadata": {},
     "output_type": "execute_result"
    }
   ],
   "source": [
    "pricer = PricerFactory().create(PricerType.BLACK_SCHOLES)\n",
    "market = Market(100, 1, date(2024, 12, 31), 0, .1)\n",
    "pricer.price(option, market)"
   ]
  },
  {
   "cell_type": "code",
   "execution_count": null,
   "metadata": {},
   "outputs": [],
   "source": []
  }
 ],
 "metadata": {
  "kernelspec": {
   "display_name": "venv",
   "language": "python",
   "name": "python3"
  },
  "language_info": {
   "codemirror_mode": {
    "name": "ipython",
    "version": 3
   },
   "file_extension": ".py",
   "mimetype": "text/x-python",
   "name": "python",
   "nbconvert_exporter": "python",
   "pygments_lexer": "ipython3",
   "version": "3.12.5"
  }
 },
 "nbformat": 4,
 "nbformat_minor": 2
}
